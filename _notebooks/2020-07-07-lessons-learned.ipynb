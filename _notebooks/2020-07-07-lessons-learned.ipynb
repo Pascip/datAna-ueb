{
  "nbformat": 4,
  "nbformat_minor": 0,
  "metadata": {
    "kernelspec": {
      "display_name": "Python 3",
      "language": "python",
      "name": "python3"
    },
    "colab": {
      "name": "2020-07-07-lessons-learned.ipynb",
      "provenance": [],
      "collapsed_sections": []
    },
    "accelerator": "GPU"
  },
  "cells": [
    {
      "cell_type": "markdown",
      "metadata": {
        "id": "f6I24JlXgHmc"
      },
      "source": [
        "# Was ich heute gelernt habe "
      ]
    },
    {
      "cell_type": "markdown",
      "metadata": {
        "id": "T2gK0RzG6ZR-"
      },
      "source": [
        "Mit Notebooks habe ich bereits einmal gearbeitet, doch nie mit Google Colab. Auch habe ich noch nie einen Blog aufgesetzt. Mit dem fastpages Repository von fastai war dies aber sehr einfach umzusetzen. Trotzdem wollte es bei mir anfangs nicht ganz funktionieren, da ich das Template mit allen Branches verwendet habe und dadurch der automatische Pull Request nicht generiert wurde."
      ]
    },
    {
      "cell_type": "markdown",
      "metadata": {
        "id": "h4sy8xn00eA9"
      },
      "source": [
        "# Cat Detector\n",
        "Kann [hier](https://pascip.github.io/datAna-ueb/2021/07/20/cat-detetction.html) gefunden werden."
      ]
    },
    {
      "cell_type": "markdown",
      "metadata": {
        "id": "vo2MfD9PGV5k"
      },
      "source": [
        "# Fragen\n",
        "1. Can we always use a random sample for a validation set? Why or why not?\n",
        "\n",
        "> _Not always. For example, sometimes you just have to predict the future, so you better use the \"end\" of your data to test your results._\n",
        "\n",
        "2. What is overfitting? Provide an example.\n",
        "\n",
        "> _Describes a scenario where the model was trained to long and it starts including the irrelevant parts of the dataset. So the model fits too closely to the training set._\n",
        "\n",
        "3. What is a metric? How does it differ from “loss”?\n",
        "\n",
        "> _With the metric one tries to measure the performance of a model. This has nothimng to do wit the optimization process while the loss function is used to optimize a model._\n",
        "\n",
        "4. How can pretrained models help?\n",
        "\n",
        "> _The initial layers of a neural network are used for a bunch of networks. That is because they detct basic lines and that is needed for every kind of classification. Only the later layers are used identify specific classes. This reduces trianing time._\n",
        "\n",
        "5. What is the “head” of a model?\n",
        "\n",
        "> _One can think of the model as a head an backbone, while the backbone can be a pretrained model. And the head fine tunes it. _\n",
        "\n",
        "6. What kinds of features do the early layers of a CNN find? How about the later layers?\n",
        "\n",
        "> _The early layers of a CNN are used for feature extraction while the later are for classification._\n",
        "\n",
        "7. Are image models only useful for photos?\n",
        "\n",
        "> _No_\n",
        "\n",
        "8. What is an “architecture”?\n",
        "\n",
        "> _The function we are adjusting the weights for. It's the function of the model_\n",
        "\n",
        "9. What is segmentation?\n",
        "\n",
        "> __"
      ]
    }
  ]
}